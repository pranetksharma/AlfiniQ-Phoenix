{
 "cells": [
  {
   "cell_type": "code",
   "execution_count": 1,
   "id": "cc16819c-13e9-4d52-8f97-d9a572bf6477",
   "metadata": {},
   "outputs": [],
   "source": [
    "from openai import OpenAI\n",
    "import os\n",
    "from langchain.chat_models import ChatOpenAI\n",
    "from langchain.prompts import ChatPromptTemplate\n",
    "from langchain.schema import HumanMessage, SystemMessage\n",
    "import numpy as np\n",
    "import torch\n",
    "import torch.nn as nn\n",
    "import torch.optim as optim"
   ]
  },
  {
   "cell_type": "code",
   "execution_count": 4,
   "id": "b8e2ced5-a338-46cd-bc62-deb7e944086f",
   "metadata": {},
   "outputs": [],
   "source": [
    "diseases = [\"breast cancer\", \"leukemia\", \"cholera\", \"diabetes\", \"hepatitis\"]"
   ]
  },
  {
   "cell_type": "code",
   "execution_count": 2,
   "id": "cb314a33-8dca-4cbe-b383-797889e96c3c",
   "metadata": {},
   "outputs": [
    {
     "name": "stderr",
     "output_type": "stream",
     "text": [
      "/home/kasmi/.local/lib/python3.10/site-packages/langchain_core/_api/deprecation.py:119: LangChainDeprecationWarning: The class `ChatOpenAI` was deprecated in LangChain 0.0.10 and will be removed in 0.2.0. An updated version of the class exists in the langchain-openai package and should be used instead. To use it run `pip install -U langchain-openai` and import as `from langchain_openai import ChatOpenAI`.\n",
      "  warn_deprecated(\n"
     ]
    }
   ],
   "source": [
    "os.environ[\"OPENAI_API_KEY\"] = \"sk-proj-7HJXBEATqkumYhMifJ5eT3BlbkFJYH0O07E58bjoLdWF85MG\"\n",
    "\n",
    "# Initialize the ChatOpenAI model\n",
    "chat = ChatOpenAI(model_name=\"gpt-3.5-turbo\", temperature = 0.9)\n",
    "\n",
    "# Define the prompt template\n",
    "template = \"\"\"Task Description:\n",
    "Analyze the user input provided and identify which war-related crises the individual has likely experienced. Output your findings as a binary string where each digit represents a specific crisis from the provided list. Each position in the string corresponds to a crisis in the order listed below, with '1' indicating the presence of the crisis and '0' indicating its absence. Return the string as well as the associated crisis.\n",
    "\n",
    "List of War Crises:\n",
    "1. displacement \n",
    "2. separate own house\n",
    "3. safe drinking water source\n",
    "4. nutrition available\n",
    "5. safe and healthy nutrition\n",
    "6. vaccines available\n",
    "7. no education\n",
    "8. shortage of clean water\n",
    "9. Destruction of healthcare infrastructure\n",
    "10. Bombings\n",
    "11. Chemical weapon exposure\n",
    "12. Continuous stress exposure\n",
    "13. Reduced access to diagnostic services\n",
    "14. Radiation exposure from conflict\n",
    "15. Increased rainfall leading to water contamination\n",
    "16. Overcrowding in shelters\n",
    "17. Exposure to toxic substances from bombings\n",
    "18. Inadequate cancer treatment facilities\n",
    "19. Trauma from bombings\n",
    "20. Distrust in response efforts\n",
    "\n",
    "User Input: \"{user_input}\"\n",
    "Model Output Format: String of 20 binary digits (e.g., '0100110...') representing the identified crises and associated crisis. give me only the vector. the vector can have more than one '1'\n",
    "\"\"\"\n"
   ]
  },
  {
   "cell_type": "code",
   "execution_count": 3,
   "id": "c9a1c0ab-dc0d-42dd-b8e3-a6294366937a",
   "metadata": {},
   "outputs": [
    {
     "name": "stdin",
     "output_type": "stream",
     "text": [
      " In our country, the specter of war casts a long shadow over our daily lives. Every moment is tinged with uncertainty and fear as we navigate through the wreckage of our once vibrant communities. The sound of gunfire and explosions has become all too familiar, and the simple act of stepping outside fills us with dread. Yet, amidst the chaos, we cling to hope, finding strength in the resilience of our people. We long for the day when peace will return, when we can rebuild what has been lost and live without the constant threat of violence hanging over our heads. Until then, we stand together, determined to endure whatever challenges lie ahead and to hold onto the promise of a better tomorrow.\n"
     ]
    },
    {
     "name": "stderr",
     "output_type": "stream",
     "text": [
      "/home/kasmi/.local/lib/python3.10/site-packages/langchain_core/_api/deprecation.py:119: LangChainDeprecationWarning: The method `BaseChatModel.__call__` was deprecated in langchain-core 0.1.7 and will be removed in 0.2.0. Use invoke instead.\n",
      "  warn_deprecated(\n"
     ]
    }
   ],
   "source": [
    "prompt = ChatPromptTemplate.from_template(template)\n",
    "\n",
    "# Get user input\n",
    "user_input = input(\"\")\n",
    "\n",
    "# Format the prompt with the user input\n",
    "formatted_prompt = prompt.format(user_input=user_input)\n",
    "\n",
    "# Generate a response using the formatted prompt\n",
    "response = chat([HumanMessage(content=formatted_prompt)])\n",
    "\n",
    "binary_array = np.array([int(char) for char in response.content])"
   ]
  },
  {
   "cell_type": "code",
   "execution_count": 6,
   "id": "7f00aa77-90d7-43d6-874b-5d8db1bd0945",
   "metadata": {},
   "outputs": [
    {
     "name": "stdout",
     "output_type": "stream",
     "text": [
      "cholera\n"
     ]
    }
   ],
   "source": [
    "import joblib\n",
    "\n",
    "# Load the saved model\n",
    "clf = joblib.load('../synthetic-data-analysis/random_forest_model.joblib')\n",
    "\n",
    "# Make predictions\n",
    "X_test = [binary_array]\n",
    "predictions = clf.predict(X_test)\n",
    "print(diseases[predictions[0]])"
   ]
  },
  {
   "cell_type": "code",
   "execution_count": null,
   "id": "30389ce2-a72b-41fd-83e8-d76f96bacdb0",
   "metadata": {},
   "outputs": [],
   "source": []
  }
 ],
 "metadata": {
  "kernelspec": {
   "display_name": "Python 3 (ipykernel)",
   "language": "python",
   "name": "python3"
  },
  "language_info": {
   "codemirror_mode": {
    "name": "ipython",
    "version": 3
   },
   "file_extension": ".py",
   "mimetype": "text/x-python",
   "name": "python",
   "nbconvert_exporter": "python",
   "pygments_lexer": "ipython3",
   "version": "3.10.12"
  }
 },
 "nbformat": 4,
 "nbformat_minor": 5
}
